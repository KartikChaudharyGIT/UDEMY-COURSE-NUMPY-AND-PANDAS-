{
 "cells": [
  {
   "cell_type": "code",
   "execution_count": 1,
   "metadata": {},
   "outputs": [
    {
     "name": "stdout",
     "output_type": "stream",
     "text": [
      "Writing test.txt\n"
     ]
    }
   ],
   "source": [
    "%%writefile test.txt\n",
    "\"Hello python\"\n",
    "\"learning the whole\""
   ]
  },
  {
   "cell_type": "code",
   "execution_count": 9,
   "metadata": {},
   "outputs": [],
   "source": [
    "t = open(\"test.txt\")"
   ]
  },
  {
   "cell_type": "code",
   "execution_count": 10,
   "metadata": {},
   "outputs": [
    {
     "name": "stdout",
     "output_type": "stream",
     "text": [
      "\"Hello python\"\n",
      "\"learning the whole\"\n"
     ]
    }
   ],
   "source": [
    "t_read = t.read()\n",
    "print(t_read)"
   ]
  },
  {
   "cell_type": "raw",
   "metadata": {},
   "source": [
    "t_lines = t.readliness()\n",
    "print(t_lines)"
   ]
  },
  {
   "cell_type": "markdown",
   "metadata": {},
   "source": []
  },
  {
   "cell_type": "code",
   "execution_count": 13,
   "metadata": {},
   "outputs": [],
   "source": [
    "t_2 = open(\"test_write.txt\",\"w\")\n",
    "t_2.write(\"this is fun \\n\")\n",
    "t_2.write(\"python is fun\")\n",
    "t_2.close()"
   ]
  },
  {
   "cell_type": "code",
   "execution_count": 14,
   "metadata": {},
   "outputs": [],
   "source": [
    "t_2 = open(\"test_write.txt\",\"w\")\n",
    "t_2.write(\"this is fun \\n\")\n",
    "t_2.write(\"wow python\\n\")\n",
    "t_2.write(\"nice\")\n",
    "t_2.close()"
   ]
  },
  {
   "cell_type": "code",
   "execution_count": 15,
   "metadata": {},
   "outputs": [],
   "source": [
    "t_2 = open(\"test_write.txt\",\"a\")\n",
    "t_2.write(\"this is fun \\n\")\n",
    "t_2.write(\"wow python\\n\")\n",
    "t_2.write(\"nice\")\n",
    "t_2.close()"
   ]
  },
  {
   "cell_type": "code",
   "execution_count": 23,
   "metadata": {},
   "outputs": [
    {
     "name": "stdout",
     "output_type": "stream",
     "text": [
      "0\n",
      "1\n",
      "2\n",
      "3\n",
      "4\n",
      "5\n",
      "6\n",
      "7\n",
      "8\n",
      "9\n",
      "10\n",
      "11\n",
      "12\n",
      "13\n",
      "14\n",
      "\n"
     ]
    }
   ],
   "source": [
    "t_2 = open(\"test_write.txt\",\"w\")\n",
    "for i in range (15):\n",
    "    t_2.write(str(i)+\"\\n\")\n",
    "t_2.close()\n",
    "t_3 = open(\"test_write.txt\",\"r\")\n",
    "print( t_3.read() )"
   ]
  },
  {
   "cell_type": "code",
   "execution_count": 27,
   "metadata": {},
   "outputs": [
    {
     "name": "stdout",
     "output_type": "stream",
     "text": [
      "Unknown error: 50\n"
     ]
    }
   ],
   "source": [
    "t_2 = open(\"test_write.txt\",\"w\")\n",
    "try:\n",
    "    for i in range(100):\n",
    "     10/(i-50)\n",
    "     t_2.write(str(i)+\"\\n\")\n",
    "except Exception:\n",
    "            print(\"Unknown error:\",i)\n",
    "finally:\n",
    "            t_2.close()"
   ]
  },
  {
   "cell_type": "code",
   "execution_count": 28,
   "metadata": {},
   "outputs": [],
   "source": [
    "with open (\"test_write.txt\",\"w\") as f:\n",
    "    f.write(\"this is going well\")"
   ]
  },
  {
   "cell_type": "code",
   "execution_count": null,
   "metadata": {},
   "outputs": [],
   "source": []
  }
 ],
 "metadata": {
  "kernelspec": {
   "display_name": "Python 3",
   "language": "python",
   "name": "python3"
  },
  "language_info": {
   "codemirror_mode": {
    "name": "ipython",
    "version": 3
   },
   "file_extension": ".py",
   "mimetype": "text/x-python",
   "name": "python",
   "nbconvert_exporter": "python",
   "pygments_lexer": "ipython3",
   "version": "3.5.6"
  }
 },
 "nbformat": 4,
 "nbformat_minor": 2
}
