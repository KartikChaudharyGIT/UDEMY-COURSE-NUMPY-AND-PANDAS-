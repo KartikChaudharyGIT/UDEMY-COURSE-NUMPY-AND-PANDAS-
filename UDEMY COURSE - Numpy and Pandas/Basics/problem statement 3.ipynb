{
 "cells": [
  {
   "cell_type": "code",
   "execution_count": 9,
   "metadata": {},
   "outputs": [
    {
     "name": "stdout",
     "output_type": "stream",
     "text": [
      "Enter text//Udemy course(python basics amd lib numpy and pandas) problem statement 3// //Calculating number of characters,spaces,digits and other symbols in a text//  input_n = input(\"Enter text\") characters = 0 spaces = 0 numbers = 0 others = 0 for i in input_n:     if i.isalpha():         characters+=1     elif i.isspace():         spaces += 1     elif i.isdigit():         numbers +=1     else:          others +=1 print(\"characters = %d,spaces = %d,others = %d,numbers=%d\" %(characters,spaces,others,numbers))                         \n",
      "characters = 317,spaces = 138,others = 66,numbers=9\n"
     ]
    }
   ],
   "source": [
    "input_n = input(\"Enter text\")\n",
    "characters = 0\n",
    "spaces = 0\n",
    "numbers = 0\n",
    "others = 0\n",
    "for i in input_n:\n",
    "    if i.isalpha():\n",
    "        characters+=1\n",
    "    elif i.isspace():\n",
    "        spaces += 1\n",
    "    elif i.isdigit():\n",
    "        numbers +=1\n",
    "    else: \n",
    "        others +=1\n",
    "print(\"characters = %d,spaces = %d,others = %d,numbers=%d\" %(characters,spaces,others,numbers))\n",
    "                        "
   ]
  },
  {
   "cell_type": "code",
   "execution_count": null,
   "metadata": {},
   "outputs": [],
   "source": []
  }
 ],
 "metadata": {
  "kernelspec": {
   "display_name": "Python 3",
   "language": "python",
   "name": "python3"
  },
  "language_info": {
   "codemirror_mode": {
    "name": "ipython",
    "version": 3
   },
   "file_extension": ".py",
   "mimetype": "text/x-python",
   "name": "python",
   "nbconvert_exporter": "python",
   "pygments_lexer": "ipython3",
   "version": "3.5.6"
  }
 },
 "nbformat": 4,
 "nbformat_minor": 2
}
