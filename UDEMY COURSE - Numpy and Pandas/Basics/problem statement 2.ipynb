{
 "cells": [
  {
   "cell_type": "code",
   "execution_count": 9,
   "metadata": {},
   "outputs": [
    {
     "name": "stdout",
     "output_type": "stream",
     "text": [
      "Enter the amount of profit15000\n",
      "4750.0\n"
     ]
    }
   ],
   "source": [
    "input_n = int(input(\"Enter the amount of profit\"))\n",
    "profit =[100000,60000,40000,20000,10000,0]\n",
    "rate = [0.01,0.015,0.03,0.05,0.75,0.1]\n",
    "r = 0\n",
    "for index in range(0,6):\n",
    "    if input_n > profit[index]:\n",
    "         r += (input_n - profit[index])*rate[index]\n",
    "         input_n = profit[index]\n",
    "print(r)    "
   ]
  },
  {
   "cell_type": "code",
   "execution_count": null,
   "metadata": {},
   "outputs": [],
   "source": []
  }
 ],
 "metadata": {
  "kernelspec": {
   "display_name": "Python 3",
   "language": "python",
   "name": "python3"
  },
  "language_info": {
   "codemirror_mode": {
    "name": "ipython",
    "version": 3
   },
   "file_extension": ".py",
   "mimetype": "text/x-python",
   "name": "python",
   "nbconvert_exporter": "python",
   "pygments_lexer": "ipython3",
   "version": "3.5.6"
  }
 },
 "nbformat": 4,
 "nbformat_minor": 2
}
