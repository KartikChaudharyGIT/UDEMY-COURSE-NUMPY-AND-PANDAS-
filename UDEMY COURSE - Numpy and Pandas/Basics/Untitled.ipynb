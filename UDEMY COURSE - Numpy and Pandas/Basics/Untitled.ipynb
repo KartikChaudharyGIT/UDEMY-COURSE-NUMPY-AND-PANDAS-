{
 "cells": [
  {
   "cell_type": "code",
   "execution_count": null,
   "metadata": {},
   "outputs": [],
   "source": [
    "import math\n",
    "\n",
    "for i in range (3):\n",
    "    input_n  = input(\"input a number\")\n",
    "    if input_n == \"quit\":\n",
    "        break\n",
    "        r = math.log(float(input_n))\n",
    "        print(r)\n",
    "        except ValueError:\n",
    "            print(\"Value must be greater tgan zero\")"
   ]
  },
  {
   "cell_type": "code",
   "execution_count": null,
   "metadata": {},
   "outputs": [],
   "source": []
  }
 ],
 "metadata": {
  "kernelspec": {
   "display_name": "Python 3",
   "language": "python",
   "name": "python3"
  },
  "language_info": {
   "codemirror_mode": {
    "name": "ipython",
    "version": 3
   },
   "file_extension": ".py",
   "mimetype": "text/x-python",
   "name": "python",
   "nbconvert_exporter": "python",
   "pygments_lexer": "ipython3",
   "version": "3.5.6"
  }
 },
 "nbformat": 4,
 "nbformat_minor": 2
}
