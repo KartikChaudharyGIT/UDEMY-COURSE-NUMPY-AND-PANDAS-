{
 "cells": [
  {
   "cell_type": "code",
   "execution_count": 15,
   "metadata": {},
   "outputs": [],
   "source": [
    "class parent:\n",
    "    number = 10\n",
    "    def __init__(self):\n",
    "        print(\"this is parent class\")\n",
    "    def firstfunc(self):\n",
    "        print(\"this is first func of parent class\")\n",
    "    def setaAttr(self,attr):\n",
    "        parentattribute = Attr\n",
    "    def getAttr (self):\n",
    "        print(\"parent atttribute:\",parent.parentattribute)\n",
    "        \n",
    "class child(parent):\n",
    "    def __init__(self):\n",
    "        print(\"this is a child class\")\n",
    "    def secondfunc(self):\n",
    "        print(\"this is second func of child class\")"
   ]
  },
  {
   "cell_type": "code",
   "execution_count": 16,
   "metadata": {},
   "outputs": [
    {
     "name": "stdout",
     "output_type": "stream",
     "text": [
      "this is a child class\n"
     ]
    }
   ],
   "source": [
    "c_1 = child()"
   ]
  },
  {
   "cell_type": "code",
   "execution_count": 17,
   "metadata": {},
   "outputs": [
    {
     "name": "stdout",
     "output_type": "stream",
     "text": [
      "this is first func of parent class\n",
      "this is second func of child class\n"
     ]
    },
    {
     "ename": "AttributeError",
     "evalue": "'child' object has no attribute 'serAttr'",
     "output_type": "error",
     "traceback": [
      "\u001b[1;31m---------------------------------------------------------------------------\u001b[0m",
      "\u001b[1;31mAttributeError\u001b[0m                            Traceback (most recent call last)",
      "\u001b[1;32m<ipython-input-17-a9649c80c718>\u001b[0m in \u001b[0;36m<module>\u001b[1;34m()\u001b[0m\n\u001b[0;32m      1\u001b[0m \u001b[0mc_1\u001b[0m\u001b[1;33m.\u001b[0m\u001b[0mfirstfunc\u001b[0m\u001b[1;33m(\u001b[0m\u001b[1;33m)\u001b[0m\u001b[1;33m\u001b[0m\u001b[0m\n\u001b[0;32m      2\u001b[0m \u001b[0mc_1\u001b[0m\u001b[1;33m.\u001b[0m\u001b[0msecondfunc\u001b[0m\u001b[1;33m(\u001b[0m\u001b[1;33m)\u001b[0m\u001b[1;33m\u001b[0m\u001b[0m\n\u001b[1;32m----> 3\u001b[1;33m \u001b[0mc_1\u001b[0m\u001b[1;33m.\u001b[0m\u001b[0mserAttr\u001b[0m\u001b[1;33m(\u001b[0m\u001b[1;36m200\u001b[0m\u001b[1;33m)\u001b[0m\u001b[1;33m\u001b[0m\u001b[0m\n\u001b[0m\u001b[0;32m      4\u001b[0m \u001b[0mc_1\u001b[0m\u001b[1;33m.\u001b[0m\u001b[0mgetAttr\u001b[0m\u001b[1;33m(\u001b[0m\u001b[1;33m)\u001b[0m\u001b[1;33m\u001b[0m\u001b[0m\n",
      "\u001b[1;31mAttributeError\u001b[0m: 'child' object has no attribute 'serAttr'"
     ]
    }
   ],
   "source": [
    "c_1.firstfunc()\n",
    "c_1.secondfunc()\n",
    "c_1.serAttr(200)\n",
    "c_1.getAttr()"
   ]
  },
  {
   "cell_type": "code",
   "execution_count": null,
   "metadata": {},
   "outputs": [],
   "source": []
  }
 ],
 "metadata": {
  "kernelspec": {
   "display_name": "Python 3",
   "language": "python",
   "name": "python3"
  },
  "language_info": {
   "codemirror_mode": {
    "name": "ipython",
    "version": 3
   },
   "file_extension": ".py",
   "mimetype": "text/x-python",
   "name": "python",
   "nbconvert_exporter": "python",
   "pygments_lexer": "ipython3",
   "version": "3.5.6"
  }
 },
 "nbformat": 4,
 "nbformat_minor": 2
}
