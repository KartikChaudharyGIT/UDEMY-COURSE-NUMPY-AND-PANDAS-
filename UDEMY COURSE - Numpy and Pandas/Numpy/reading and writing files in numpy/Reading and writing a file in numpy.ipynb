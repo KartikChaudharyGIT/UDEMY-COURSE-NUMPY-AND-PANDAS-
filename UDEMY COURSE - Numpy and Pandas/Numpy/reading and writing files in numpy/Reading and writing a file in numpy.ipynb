{
 "cells": [
  {
   "cell_type": "code",
   "execution_count": 22,
   "metadata": {},
   "outputs": [
    {
     "name": "stdout",
     "output_type": "stream",
     "text": [
      "Overwriting np_test1.txt\n"
     ]
    }
   ],
   "source": [
    "\n",
    "%%writefile np_test1.txt\n",
    "0 1 2 3 5\n",
    "8 6 4 9 3"
   ]
  },
  {
   "cell_type": "code",
   "execution_count": 23,
   "metadata": {},
   "outputs": [],
   "source": [
    "import numpy as np"
   ]
  },
  {
   "cell_type": "code",
   "execution_count": 24,
   "metadata": {},
   "outputs": [
    {
     "data": {
      "text/plain": [
       "array([[0., 1., 2., 3., 5.],\n",
       "       [8., 6., 4., 9., 3.]])"
      ]
     },
     "execution_count": 24,
     "metadata": {},
     "output_type": "execute_result"
    }
   ],
   "source": [
    "l_1 =[]\n",
    "with open(\"np_test1.txt\") as f:\n",
    "    for line in f.readlines():\n",
    "        s = line.split()\n",
    "        cur_list = [float(x) for x in s]\n",
    "        l_1.append(cur_list)\n",
    "arr_1 = np.array(l_1)\n",
    "arr_1"
   ]
  },
  {
   "cell_type": "code",
   "execution_count": 25,
   "metadata": {},
   "outputs": [
    {
     "data": {
      "text/plain": [
       "array([[0., 1., 2., 3., 5.],\n",
       "       [8., 6., 4., 9., 3.]])"
      ]
     },
     "execution_count": 25,
     "metadata": {},
     "output_type": "execute_result"
    }
   ],
   "source": [
    "arr_2 = np.loadtxt(\"np_test1.txt\")\n",
    "arr_2"
   ]
  },
  {
   "cell_type": "code",
   "execution_count": 26,
   "metadata": {},
   "outputs": [
    {
     "name": "stdout",
     "output_type": "stream",
     "text": [
      "Overwriting np_test2.txt\n"
     ]
    }
   ],
   "source": [
    "%%writefile np_test2.txt\n",
    "0, 1, 2, 3, 5\n",
    "8, 6, 4, 9, 3"
   ]
  },
  {
   "cell_type": "code",
   "execution_count": 27,
   "metadata": {},
   "outputs": [
    {
     "data": {
      "text/plain": [
       "array([[0., 1., 2., 3., 5.],\n",
       "       [8., 6., 4., 9., 3.]])"
      ]
     },
     "execution_count": 27,
     "metadata": {},
     "output_type": "execute_result"
    }
   ],
   "source": [
    "arr_2 = np.loadtxt(\"np_test2.txt\", delimiter=\",\")\n",
    "arr_2"
   ]
  },
  {
   "cell_type": "code",
   "execution_count": 30,
   "metadata": {},
   "outputs": [
    {
     "name": "stdout",
     "output_type": "stream",
     "text": [
      "Overwriting np_test3.txt\n"
     ]
    }
   ],
   "source": [
    "%%writefile np_test3.txt\n",
    "going well\n",
    "0, 1, 2, 3, 5\n",
    "8, 6, 4, 9, 3"
   ]
  },
  {
   "cell_type": "code",
   "execution_count": 32,
   "metadata": {},
   "outputs": [
    {
     "data": {
      "text/plain": [
       "array([[0., 1., 2., 3., 5.],\n",
       "       [8., 6., 4., 9., 3.]])"
      ]
     },
     "execution_count": 32,
     "metadata": {},
     "output_type": "execute_result"
    }
   ],
   "source": [
    "arr_3 = np.loadtxt(\"np_test3.txt\", delimiter=\",\", skiprows = 1)\n",
    "arr_3"
   ]
  },
  {
   "cell_type": "code",
   "execution_count": null,
   "metadata": {},
   "outputs": [],
   "source": []
  }
 ],
 "metadata": {
  "kernelspec": {
   "display_name": "Python 3",
   "language": "python",
   "name": "python3"
  },
  "language_info": {
   "codemirror_mode": {
    "name": "ipython",
    "version": 3
   },
   "file_extension": ".py",
   "mimetype": "text/x-python",
   "name": "python",
   "nbconvert_exporter": "python",
   "pygments_lexer": "ipython3",
   "version": "3.5.6"
  }
 },
 "nbformat": 4,
 "nbformat_minor": 2
}
