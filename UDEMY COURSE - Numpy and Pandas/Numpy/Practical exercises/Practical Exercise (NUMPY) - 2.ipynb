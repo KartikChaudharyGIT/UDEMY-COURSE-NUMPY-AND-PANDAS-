{
 "cells": [
  {
   "cell_type": "code",
   "execution_count": null,
   "metadata": {},
   "outputs": [],
   "source": [
    "## TASK:To print an array and find the largest element ##"
   ]
  },
  {
   "cell_type": "code",
   "execution_count": 1,
   "metadata": {},
   "outputs": [],
   "source": [
    "import numpy as np"
   ]
  },
  {
   "cell_type": "code",
   "execution_count": 5,
   "metadata": {},
   "outputs": [
    {
     "data": {
      "text/plain": [
       "array([ 46,  71,  88, 194,  40,  78, 140, 161, 155, 178, 135, 138,  62,\n",
       "       131, 184, 100,  93, 182, 137, 191,  47,  94, 141,  76, 168, 173,\n",
       "        51, 116, 192,  75, 127, 114,   2,  61, 142,  67, 166,  33, 185,\n",
       "        15,  53,  41, 132, 121,  57,  72, 162,  49,  99,  86,  22, 181,\n",
       "       136,  70,  37,  95,   6, 102, 113,  84, 104,  35, 167,  20, 152,\n",
       "        74,  54, 150,  18, 103,  29,  52, 139, 118,  63,  82, 196,  30,\n",
       "        23, 110,  66, 159, 156,   5, 179,   9,  85,  79,  34, 174, 195,\n",
       "        11,  83, 101,  59,  12, 106, 186,  27,  32, 157,   8, 193, 180,\n",
       "        65,  48, 170,  19, 175,  55,  64, 144, 107, 171,  50, 154, 145,\n",
       "       197, 177,  81, 108,  36, 109,  91,  92, 133,  44, 164, 172, 117,\n",
       "       151, 143,  43, 189,  58,  98,  96,  68,  60,  25,  42,  87,  97,\n",
       "       146, 160, 130, 124, 163, 187, 147, 129,   4, 120,  16,  38,  24,\n",
       "         0, 115,  28, 169,  31,  17,  77, 119,  90,  89,   1, 153,  26,\n",
       "       165,  39, 176, 112, 128,  56,   3,  14,  69, 134, 199, 190,  13,\n",
       "       183, 122, 148,  45, 123,   7,  73, 111,  21, 149, 126, 125, 198,\n",
       "        80, 188, 105,  10, 158])"
      ]
     },
     "execution_count": 5,
     "metadata": {},
     "output_type": "execute_result"
    }
   ],
   "source": [
    "arr_1 = np.arange(200)\n",
    "np.random.shuffle(arr_1)\n",
    "arr_1"
   ]
  },
  {
   "cell_type": "code",
   "execution_count": 16,
   "metadata": {},
   "outputs": [
    {
     "data": {
      "text/plain": [
       "array([198, 197, 199, 196, 195])"
      ]
     },
     "execution_count": 16,
     "metadata": {},
     "output_type": "execute_result"
    }
   ],
   "source": [
    "n = 5\n",
    "arr_1[np.argpartition(-arr_1,n)[:n]]"
   ]
  },
  {
   "cell_type": "code",
   "execution_count": null,
   "metadata": {},
   "outputs": [],
   "source": []
  }
 ],
 "metadata": {
  "kernelspec": {
   "display_name": "Python 3",
   "language": "python",
   "name": "python3"
  },
  "language_info": {
   "codemirror_mode": {
    "name": "ipython",
    "version": 3
   },
   "file_extension": ".py",
   "mimetype": "text/x-python",
   "name": "python",
   "nbconvert_exporter": "python",
   "pygments_lexer": "ipython3",
   "version": "3.5.6"
  }
 },
 "nbformat": 4,
 "nbformat_minor": 2
}
